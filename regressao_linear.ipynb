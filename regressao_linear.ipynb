{
  "nbformat": 4,
  "nbformat_minor": 0,
  "metadata": {
    "colab": {
      "provenance": [],
      "mount_file_id": "1n-MWjX9xA7zXuZcOtKNXSSpB3x0lYLr1",
      "authorship_tag": "ABX9TyOvDekaBXrXuS7lRdrRITzn",
      "include_colab_link": true
    },
    "kernelspec": {
      "name": "python3",
      "display_name": "Python 3"
    },
    "language_info": {
      "name": "python"
    }
  },
  "cells": [
    {
      "cell_type": "markdown",
      "metadata": {
        "id": "view-in-github",
        "colab_type": "text"
      },
      "source": [
        "<a href=\"https://colab.research.google.com/github/thaymarinho/Eu_ProgrAMO-Analise_de_Dados/blob/main/regressao_linear.ipynb\" target=\"_parent\"><img src=\"https://colab.research.google.com/assets/colab-badge.svg\" alt=\"Open In Colab\"/></a>"
      ]
    },
    {
      "cell_type": "code",
      "execution_count": null,
      "metadata": {
        "id": "alnhp3yCSwfq"
      },
      "outputs": [],
      "source": [
        "import pandas as pd"
      ]
    },
    {
      "cell_type": "code",
      "source": [
        "dados = pd.read_excel('/content/drive/MyDrive/prograMaria/analise_dados_mod7_(1).xlsx')"
      ],
      "metadata": {
        "id": "M9M6JJrrTjJA"
      },
      "execution_count": null,
      "outputs": []
    },
    {
      "cell_type": "code",
      "source": [
        "dados.head()"
      ],
      "metadata": {
        "colab": {
          "base_uri": "https://localhost:8080/",
          "height": 776
        },
        "collapsed": true,
        "id": "aYejes8-Tq15",
        "outputId": "97e5e714-7774-4d0b-dbb0-fe1bc0604ba4"
      },
      "execution_count": null,
      "outputs": [
        {
          "output_type": "execute_result",
          "data": {
            "text/plain": [
              "                                 ID  IDADE FAIXA IDADE     GENERO  \\\n",
              "0  zzqzz3l9ily8nuo2m7wyzzqzz3w48o96   39.0       35-39  Masculino   \n",
              "1  zzls2oftfn9law393oezzls2ofhvfpzd   32.0       30-34  Masculino   \n",
              "2  zzdwqzfqqp1ypc7ps6m0hzzdwqz292yi   53.0       50-54  Masculino   \n",
              "3  zzbqh3uy7yk7k9qmkzzbqtb4s9faqspl   27.0       25-29  Masculino   \n",
              "4  zzaf1m95yan929rb94wzzaf1mekhvhpg   46.0       45-49   Feminino   \n",
              "\n",
              "  COR/RACA/ETNIA  PCD               EXPERIENCIA_PROFISSIONAL_PREJUDICADA  \\\n",
              "0          Parda  Não  Não acredito que minha experiência profissiona...   \n",
              "1          Parda  Não  Sim, acredito que a minha a experiência profis...   \n",
              "2         Branca  Não                                                NaN   \n",
              "3         Branca  Não                                                NaN   \n",
              "4         Branca  Não  Não acredito que minha experiência profissiona...   \n",
              "\n",
              "                          ASPECTOS_PREJUDICADOS  VIVE_NO_BRASIL  \\\n",
              "0                                           NaN            True   \n",
              "1  Aprovação em processos seletivos/entrevistas            True   \n",
              "2                                           NaN            True   \n",
              "3                                           NaN            True   \n",
              "4                                           NaN            True   \n",
              "\n",
              "        ESTADO ONDE MORA  ...  \\\n",
              "0  Distrito Federal (DF)  ...   \n",
              "1              Pará (PA)  ...   \n",
              "2  Distrito Federal (DF)  ...   \n",
              "3      Minas Gerais (MG)  ...   \n",
              "4              Pará (PA)  ...   \n",
              "\n",
              "  Você pretende mudar de emprego nos próximos 6 meses?  \\\n",
              "0  Não estou buscando e não pretendo mudar de emp...     \n",
              "1  Estou em busca de oportunidades dentro ou fora...     \n",
              "2  Não estou buscando, mas me considero aberto a ...     \n",
              "3  Não estou buscando, mas me considero aberto a ...     \n",
              "4  Não estou buscando, mas me considero aberto a ...     \n",
              "\n",
              "  Quais os principais critérios que você leva em consideração no momento de decidir onde trabalhar?  \\\n",
              "0                                         Benefícios                                                  \n",
              "1  Remuneração/Salário, Plano de carreira e oport...                                                  \n",
              "2  Remuneração/Salário, Flexibilidade de trabalho...                                                  \n",
              "3  Remuneração/Salário, Flexibilidade de trabalho...                                                  \n",
              "4  Remuneração/Salário, Oportunidade de aprendiza...                                                  \n",
              "\n",
              "            Atualmente qual a sua forma de trabalho?  \\\n",
              "0                             Modelo 100% presencial   \n",
              "1                             Modelo 100% presencial   \n",
              "2  Modelo híbrido com dias fixos de trabalho pres...   \n",
              "3  Modelo híbrido flexível (o funcionário tem lib...   \n",
              "4                             Modelo 100% presencial   \n",
              "\n",
              "           Qual a forma de trabalho ideal para você?  \\\n",
              "0  Modelo híbrido com dias fixos de trabalho pres...   \n",
              "1  Modelo híbrido flexível (o funcionário tem lib...   \n",
              "2  Modelo híbrido flexível (o funcionário tem lib...   \n",
              "3  Modelo híbrido flexível (o funcionário tem lib...   \n",
              "4                             Modelo 100% presencial   \n",
              "\n",
              "  Caso sua empresa decida pelo modelo 100% presencial qual será sua atitude?  \\\n",
              "0   Vou aceitar e retornar ao modelo 100% presencial                           \n",
              "1   Vou aceitar e retornar ao modelo 100% presencial                           \n",
              "2  Vou procurar outra oportunidade no modelo híbr...                           \n",
              "3  Vou procurar outra oportunidade no modelo híbr...                           \n",
              "4   Vou aceitar e retornar ao modelo 100% presencial                           \n",
              "\n",
              "               Sua empresa passu por Layoff em 2022?  \\\n",
              "0  Não ocorreram layoffs/demissões em massa na em...   \n",
              "1  Não ocorreram layoffs/demissões em massa na em...   \n",
              "2  Não ocorreram layoffs/demissões em massa na em...   \n",
              "3  Não ocorreram layoffs/demissões em massa na em...   \n",
              "4  Não ocorreram layoffs/demissões em massa na em...   \n",
              "\n",
              "                                             Atuacao  \\\n",
              "0                                Engenharia de Dados   \n",
              "1                                             Gestor   \n",
              "2  desenvolve modelos preditivos e algoritmos de ...   \n",
              "3  desenvolve modelos preditivos e algoritmos de ...   \n",
              "4                                      Outra atuação   \n",
              "\n",
              "  Quais das linguagens listadas abaixo você utiliza no trabalho? EM_BUSCA  \\\n",
              "0                                                SQL                  0.0   \n",
              "1                                                NaN                  1.0   \n",
              "2                                                  1                  0.0   \n",
              "3                                                  0                  0.0   \n",
              "4                                                SQL                  0.0   \n",
              "\n",
              "   ABERTO_OPORTUNIDADES  \n",
              "0                   0.0  \n",
              "1                   0.0  \n",
              "2                   1.0  \n",
              "3                   1.0  \n",
              "4                   1.0  \n",
              "\n",
              "[5 rows x 46 columns]"
            ],
            "text/html": [
              "\n",
              "  <div id=\"df-0413da6d-4760-4a52-922e-5b5ae0fc6047\" class=\"colab-df-container\">\n",
              "    <div>\n",
              "<style scoped>\n",
              "    .dataframe tbody tr th:only-of-type {\n",
              "        vertical-align: middle;\n",
              "    }\n",
              "\n",
              "    .dataframe tbody tr th {\n",
              "        vertical-align: top;\n",
              "    }\n",
              "\n",
              "    .dataframe thead th {\n",
              "        text-align: right;\n",
              "    }\n",
              "</style>\n",
              "<table border=\"1\" class=\"dataframe\">\n",
              "  <thead>\n",
              "    <tr style=\"text-align: right;\">\n",
              "      <th></th>\n",
              "      <th>ID</th>\n",
              "      <th>IDADE</th>\n",
              "      <th>FAIXA IDADE</th>\n",
              "      <th>GENERO</th>\n",
              "      <th>COR/RACA/ETNIA</th>\n",
              "      <th>PCD</th>\n",
              "      <th>EXPERIENCIA_PROFISSIONAL_PREJUDICADA</th>\n",
              "      <th>ASPECTOS_PREJUDICADOS</th>\n",
              "      <th>VIVE_NO_BRASIL</th>\n",
              "      <th>ESTADO ONDE MORA</th>\n",
              "      <th>...</th>\n",
              "      <th>Você pretende mudar de emprego nos próximos 6 meses?</th>\n",
              "      <th>Quais os principais critérios que você leva em consideração no momento de decidir onde trabalhar?</th>\n",
              "      <th>Atualmente qual a sua forma de trabalho?</th>\n",
              "      <th>Qual a forma de trabalho ideal para você?</th>\n",
              "      <th>Caso sua empresa decida pelo modelo 100% presencial qual será sua atitude?</th>\n",
              "      <th>Sua empresa passu por Layoff em 2022?</th>\n",
              "      <th>Atuacao</th>\n",
              "      <th>Quais das linguagens listadas abaixo você utiliza no trabalho?</th>\n",
              "      <th>EM_BUSCA</th>\n",
              "      <th>ABERTO_OPORTUNIDADES</th>\n",
              "    </tr>\n",
              "  </thead>\n",
              "  <tbody>\n",
              "    <tr>\n",
              "      <th>0</th>\n",
              "      <td>zzqzz3l9ily8nuo2m7wyzzqzz3w48o96</td>\n",
              "      <td>39.0</td>\n",
              "      <td>35-39</td>\n",
              "      <td>Masculino</td>\n",
              "      <td>Parda</td>\n",
              "      <td>Não</td>\n",
              "      <td>Não acredito que minha experiência profissiona...</td>\n",
              "      <td>NaN</td>\n",
              "      <td>True</td>\n",
              "      <td>Distrito Federal (DF)</td>\n",
              "      <td>...</td>\n",
              "      <td>Não estou buscando e não pretendo mudar de emp...</td>\n",
              "      <td>Benefícios</td>\n",
              "      <td>Modelo 100% presencial</td>\n",
              "      <td>Modelo híbrido com dias fixos de trabalho pres...</td>\n",
              "      <td>Vou aceitar e retornar ao modelo 100% presencial</td>\n",
              "      <td>Não ocorreram layoffs/demissões em massa na em...</td>\n",
              "      <td>Engenharia de Dados</td>\n",
              "      <td>SQL</td>\n",
              "      <td>0.0</td>\n",
              "      <td>0.0</td>\n",
              "    </tr>\n",
              "    <tr>\n",
              "      <th>1</th>\n",
              "      <td>zzls2oftfn9law393oezzls2ofhvfpzd</td>\n",
              "      <td>32.0</td>\n",
              "      <td>30-34</td>\n",
              "      <td>Masculino</td>\n",
              "      <td>Parda</td>\n",
              "      <td>Não</td>\n",
              "      <td>Sim, acredito que a minha a experiência profis...</td>\n",
              "      <td>Aprovação em processos seletivos/entrevistas</td>\n",
              "      <td>True</td>\n",
              "      <td>Pará (PA)</td>\n",
              "      <td>...</td>\n",
              "      <td>Estou em busca de oportunidades dentro ou fora...</td>\n",
              "      <td>Remuneração/Salário, Plano de carreira e oport...</td>\n",
              "      <td>Modelo 100% presencial</td>\n",
              "      <td>Modelo híbrido flexível (o funcionário tem lib...</td>\n",
              "      <td>Vou aceitar e retornar ao modelo 100% presencial</td>\n",
              "      <td>Não ocorreram layoffs/demissões em massa na em...</td>\n",
              "      <td>Gestor</td>\n",
              "      <td>NaN</td>\n",
              "      <td>1.0</td>\n",
              "      <td>0.0</td>\n",
              "    </tr>\n",
              "    <tr>\n",
              "      <th>2</th>\n",
              "      <td>zzdwqzfqqp1ypc7ps6m0hzzdwqz292yi</td>\n",
              "      <td>53.0</td>\n",
              "      <td>50-54</td>\n",
              "      <td>Masculino</td>\n",
              "      <td>Branca</td>\n",
              "      <td>Não</td>\n",
              "      <td>NaN</td>\n",
              "      <td>NaN</td>\n",
              "      <td>True</td>\n",
              "      <td>Distrito Federal (DF)</td>\n",
              "      <td>...</td>\n",
              "      <td>Não estou buscando, mas me considero aberto a ...</td>\n",
              "      <td>Remuneração/Salário, Flexibilidade de trabalho...</td>\n",
              "      <td>Modelo híbrido com dias fixos de trabalho pres...</td>\n",
              "      <td>Modelo híbrido flexível (o funcionário tem lib...</td>\n",
              "      <td>Vou procurar outra oportunidade no modelo híbr...</td>\n",
              "      <td>Não ocorreram layoffs/demissões em massa na em...</td>\n",
              "      <td>desenvolve modelos preditivos e algoritmos de ...</td>\n",
              "      <td>1</td>\n",
              "      <td>0.0</td>\n",
              "      <td>1.0</td>\n",
              "    </tr>\n",
              "    <tr>\n",
              "      <th>3</th>\n",
              "      <td>zzbqh3uy7yk7k9qmkzzbqtb4s9faqspl</td>\n",
              "      <td>27.0</td>\n",
              "      <td>25-29</td>\n",
              "      <td>Masculino</td>\n",
              "      <td>Branca</td>\n",
              "      <td>Não</td>\n",
              "      <td>NaN</td>\n",
              "      <td>NaN</td>\n",
              "      <td>True</td>\n",
              "      <td>Minas Gerais (MG)</td>\n",
              "      <td>...</td>\n",
              "      <td>Não estou buscando, mas me considero aberto a ...</td>\n",
              "      <td>Remuneração/Salário, Flexibilidade de trabalho...</td>\n",
              "      <td>Modelo híbrido flexível (o funcionário tem lib...</td>\n",
              "      <td>Modelo híbrido flexível (o funcionário tem lib...</td>\n",
              "      <td>Vou procurar outra oportunidade no modelo híbr...</td>\n",
              "      <td>Não ocorreram layoffs/demissões em massa na em...</td>\n",
              "      <td>desenvolve modelos preditivos e algoritmos de ...</td>\n",
              "      <td>0</td>\n",
              "      <td>0.0</td>\n",
              "      <td>1.0</td>\n",
              "    </tr>\n",
              "    <tr>\n",
              "      <th>4</th>\n",
              "      <td>zzaf1m95yan929rb94wzzaf1mekhvhpg</td>\n",
              "      <td>46.0</td>\n",
              "      <td>45-49</td>\n",
              "      <td>Feminino</td>\n",
              "      <td>Branca</td>\n",
              "      <td>Não</td>\n",
              "      <td>Não acredito que minha experiência profissiona...</td>\n",
              "      <td>NaN</td>\n",
              "      <td>True</td>\n",
              "      <td>Pará (PA)</td>\n",
              "      <td>...</td>\n",
              "      <td>Não estou buscando, mas me considero aberto a ...</td>\n",
              "      <td>Remuneração/Salário, Oportunidade de aprendiza...</td>\n",
              "      <td>Modelo 100% presencial</td>\n",
              "      <td>Modelo 100% presencial</td>\n",
              "      <td>Vou aceitar e retornar ao modelo 100% presencial</td>\n",
              "      <td>Não ocorreram layoffs/demissões em massa na em...</td>\n",
              "      <td>Outra atuação</td>\n",
              "      <td>SQL</td>\n",
              "      <td>0.0</td>\n",
              "      <td>1.0</td>\n",
              "    </tr>\n",
              "  </tbody>\n",
              "</table>\n",
              "<p>5 rows × 46 columns</p>\n",
              "</div>\n",
              "    <div class=\"colab-df-buttons\">\n",
              "\n",
              "  <div class=\"colab-df-container\">\n",
              "    <button class=\"colab-df-convert\" onclick=\"convertToInteractive('df-0413da6d-4760-4a52-922e-5b5ae0fc6047')\"\n",
              "            title=\"Convert this dataframe to an interactive table.\"\n",
              "            style=\"display:none;\">\n",
              "\n",
              "  <svg xmlns=\"http://www.w3.org/2000/svg\" height=\"24px\" viewBox=\"0 -960 960 960\">\n",
              "    <path d=\"M120-120v-720h720v720H120Zm60-500h600v-160H180v160Zm220 220h160v-160H400v160Zm0 220h160v-160H400v160ZM180-400h160v-160H180v160Zm440 0h160v-160H620v160ZM180-180h160v-160H180v160Zm440 0h160v-160H620v160Z\"/>\n",
              "  </svg>\n",
              "    </button>\n",
              "\n",
              "  <style>\n",
              "    .colab-df-container {\n",
              "      display:flex;\n",
              "      gap: 12px;\n",
              "    }\n",
              "\n",
              "    .colab-df-convert {\n",
              "      background-color: #E8F0FE;\n",
              "      border: none;\n",
              "      border-radius: 50%;\n",
              "      cursor: pointer;\n",
              "      display: none;\n",
              "      fill: #1967D2;\n",
              "      height: 32px;\n",
              "      padding: 0 0 0 0;\n",
              "      width: 32px;\n",
              "    }\n",
              "\n",
              "    .colab-df-convert:hover {\n",
              "      background-color: #E2EBFA;\n",
              "      box-shadow: 0px 1px 2px rgba(60, 64, 67, 0.3), 0px 1px 3px 1px rgba(60, 64, 67, 0.15);\n",
              "      fill: #174EA6;\n",
              "    }\n",
              "\n",
              "    .colab-df-buttons div {\n",
              "      margin-bottom: 4px;\n",
              "    }\n",
              "\n",
              "    [theme=dark] .colab-df-convert {\n",
              "      background-color: #3B4455;\n",
              "      fill: #D2E3FC;\n",
              "    }\n",
              "\n",
              "    [theme=dark] .colab-df-convert:hover {\n",
              "      background-color: #434B5C;\n",
              "      box-shadow: 0px 1px 3px 1px rgba(0, 0, 0, 0.15);\n",
              "      filter: drop-shadow(0px 1px 2px rgba(0, 0, 0, 0.3));\n",
              "      fill: #FFFFFF;\n",
              "    }\n",
              "  </style>\n",
              "\n",
              "    <script>\n",
              "      const buttonEl =\n",
              "        document.querySelector('#df-0413da6d-4760-4a52-922e-5b5ae0fc6047 button.colab-df-convert');\n",
              "      buttonEl.style.display =\n",
              "        google.colab.kernel.accessAllowed ? 'block' : 'none';\n",
              "\n",
              "      async function convertToInteractive(key) {\n",
              "        const element = document.querySelector('#df-0413da6d-4760-4a52-922e-5b5ae0fc6047');\n",
              "        const dataTable =\n",
              "          await google.colab.kernel.invokeFunction('convertToInteractive',\n",
              "                                                    [key], {});\n",
              "        if (!dataTable) return;\n",
              "\n",
              "        const docLinkHtml = 'Like what you see? Visit the ' +\n",
              "          '<a target=\"_blank\" href=https://colab.research.google.com/notebooks/data_table.ipynb>data table notebook</a>'\n",
              "          + ' to learn more about interactive tables.';\n",
              "        element.innerHTML = '';\n",
              "        dataTable['output_type'] = 'display_data';\n",
              "        await google.colab.output.renderOutput(dataTable, element);\n",
              "        const docLink = document.createElement('div');\n",
              "        docLink.innerHTML = docLinkHtml;\n",
              "        element.appendChild(docLink);\n",
              "      }\n",
              "    </script>\n",
              "  </div>\n",
              "\n",
              "\n",
              "<div id=\"df-f2c725ff-01a3-4642-b818-1f4754cc15fe\">\n",
              "  <button class=\"colab-df-quickchart\" onclick=\"quickchart('df-f2c725ff-01a3-4642-b818-1f4754cc15fe')\"\n",
              "            title=\"Suggest charts\"\n",
              "            style=\"display:none;\">\n",
              "\n",
              "<svg xmlns=\"http://www.w3.org/2000/svg\" height=\"24px\"viewBox=\"0 0 24 24\"\n",
              "     width=\"24px\">\n",
              "    <g>\n",
              "        <path d=\"M19 3H5c-1.1 0-2 .9-2 2v14c0 1.1.9 2 2 2h14c1.1 0 2-.9 2-2V5c0-1.1-.9-2-2-2zM9 17H7v-7h2v7zm4 0h-2V7h2v10zm4 0h-2v-4h2v4z\"/>\n",
              "    </g>\n",
              "</svg>\n",
              "  </button>\n",
              "\n",
              "<style>\n",
              "  .colab-df-quickchart {\n",
              "      --bg-color: #E8F0FE;\n",
              "      --fill-color: #1967D2;\n",
              "      --hover-bg-color: #E2EBFA;\n",
              "      --hover-fill-color: #174EA6;\n",
              "      --disabled-fill-color: #AAA;\n",
              "      --disabled-bg-color: #DDD;\n",
              "  }\n",
              "\n",
              "  [theme=dark] .colab-df-quickchart {\n",
              "      --bg-color: #3B4455;\n",
              "      --fill-color: #D2E3FC;\n",
              "      --hover-bg-color: #434B5C;\n",
              "      --hover-fill-color: #FFFFFF;\n",
              "      --disabled-bg-color: #3B4455;\n",
              "      --disabled-fill-color: #666;\n",
              "  }\n",
              "\n",
              "  .colab-df-quickchart {\n",
              "    background-color: var(--bg-color);\n",
              "    border: none;\n",
              "    border-radius: 50%;\n",
              "    cursor: pointer;\n",
              "    display: none;\n",
              "    fill: var(--fill-color);\n",
              "    height: 32px;\n",
              "    padding: 0;\n",
              "    width: 32px;\n",
              "  }\n",
              "\n",
              "  .colab-df-quickchart:hover {\n",
              "    background-color: var(--hover-bg-color);\n",
              "    box-shadow: 0 1px 2px rgba(60, 64, 67, 0.3), 0 1px 3px 1px rgba(60, 64, 67, 0.15);\n",
              "    fill: var(--button-hover-fill-color);\n",
              "  }\n",
              "\n",
              "  .colab-df-quickchart-complete:disabled,\n",
              "  .colab-df-quickchart-complete:disabled:hover {\n",
              "    background-color: var(--disabled-bg-color);\n",
              "    fill: var(--disabled-fill-color);\n",
              "    box-shadow: none;\n",
              "  }\n",
              "\n",
              "  .colab-df-spinner {\n",
              "    border: 2px solid var(--fill-color);\n",
              "    border-color: transparent;\n",
              "    border-bottom-color: var(--fill-color);\n",
              "    animation:\n",
              "      spin 1s steps(1) infinite;\n",
              "  }\n",
              "\n",
              "  @keyframes spin {\n",
              "    0% {\n",
              "      border-color: transparent;\n",
              "      border-bottom-color: var(--fill-color);\n",
              "      border-left-color: var(--fill-color);\n",
              "    }\n",
              "    20% {\n",
              "      border-color: transparent;\n",
              "      border-left-color: var(--fill-color);\n",
              "      border-top-color: var(--fill-color);\n",
              "    }\n",
              "    30% {\n",
              "      border-color: transparent;\n",
              "      border-left-color: var(--fill-color);\n",
              "      border-top-color: var(--fill-color);\n",
              "      border-right-color: var(--fill-color);\n",
              "    }\n",
              "    40% {\n",
              "      border-color: transparent;\n",
              "      border-right-color: var(--fill-color);\n",
              "      border-top-color: var(--fill-color);\n",
              "    }\n",
              "    60% {\n",
              "      border-color: transparent;\n",
              "      border-right-color: var(--fill-color);\n",
              "    }\n",
              "    80% {\n",
              "      border-color: transparent;\n",
              "      border-right-color: var(--fill-color);\n",
              "      border-bottom-color: var(--fill-color);\n",
              "    }\n",
              "    90% {\n",
              "      border-color: transparent;\n",
              "      border-bottom-color: var(--fill-color);\n",
              "    }\n",
              "  }\n",
              "</style>\n",
              "\n",
              "  <script>\n",
              "    async function quickchart(key) {\n",
              "      const quickchartButtonEl =\n",
              "        document.querySelector('#' + key + ' button');\n",
              "      quickchartButtonEl.disabled = true;  // To prevent multiple clicks.\n",
              "      quickchartButtonEl.classList.add('colab-df-spinner');\n",
              "      try {\n",
              "        const charts = await google.colab.kernel.invokeFunction(\n",
              "            'suggestCharts', [key], {});\n",
              "      } catch (error) {\n",
              "        console.error('Error during call to suggestCharts:', error);\n",
              "      }\n",
              "      quickchartButtonEl.classList.remove('colab-df-spinner');\n",
              "      quickchartButtonEl.classList.add('colab-df-quickchart-complete');\n",
              "    }\n",
              "    (() => {\n",
              "      let quickchartButtonEl =\n",
              "        document.querySelector('#df-f2c725ff-01a3-4642-b818-1f4754cc15fe button');\n",
              "      quickchartButtonEl.style.display =\n",
              "        google.colab.kernel.accessAllowed ? 'block' : 'none';\n",
              "    })();\n",
              "  </script>\n",
              "</div>\n",
              "\n",
              "    </div>\n",
              "  </div>\n"
            ],
            "application/vnd.google.colaboratory.intrinsic+json": {
              "type": "dataframe",
              "variable_name": "dados"
            }
          },
          "metadata": {},
          "execution_count": 3
        }
      ]
    },
    {
      "cell_type": "code",
      "source": [
        "dados['QUAL SUA SITUAÇÃO ATUAL DE TRABALHO?'].value_counts()"
      ],
      "metadata": {
        "colab": {
          "base_uri": "https://localhost:8080/",
          "height": 523
        },
        "id": "JfFD2wF5TsRl",
        "outputId": "d839cb0f-36b5-4671-a94d-64c49d16838d"
      },
      "execution_count": null,
      "outputs": [
        {
          "output_type": "execute_result",
          "data": {
            "text/plain": [
              "QUAL SUA SITUAÇÃO ATUAL DE TRABALHO?\n",
              "Empregado (CLT)                                                    2762\n",
              "Empreendedor ou Empregado (CNPJ)                                    410\n",
              "Desempregado, buscando recolocação                                  350\n",
              "Estagiário                                                          188\n",
              "Servidor Público                                                    156\n",
              "Trabalho na área Acadêmica/Pesquisador                               86\n",
              "Somente Estudante (graduação)                                        82\n",
              "Vivo no Brasil e trabalho remoto para empresa de fora do Brasil      69\n",
              "Vivo fora do Brasil e trabalho para empresa de fora do Brasil        46\n",
              "Somente Estudante (pós-graduação)                                    44\n",
              "Freelancer                                                           39\n",
              "Prefiro não informar                                                 24\n",
              "Desempregado e não estou buscando recolocação                        15\n",
              "Name: count, dtype: int64"
            ],
            "text/html": [
              "<div>\n",
              "<style scoped>\n",
              "    .dataframe tbody tr th:only-of-type {\n",
              "        vertical-align: middle;\n",
              "    }\n",
              "\n",
              "    .dataframe tbody tr th {\n",
              "        vertical-align: top;\n",
              "    }\n",
              "\n",
              "    .dataframe thead th {\n",
              "        text-align: right;\n",
              "    }\n",
              "</style>\n",
              "<table border=\"1\" class=\"dataframe\">\n",
              "  <thead>\n",
              "    <tr style=\"text-align: right;\">\n",
              "      <th></th>\n",
              "      <th>count</th>\n",
              "    </tr>\n",
              "    <tr>\n",
              "      <th>QUAL SUA SITUAÇÃO ATUAL DE TRABALHO?</th>\n",
              "      <th></th>\n",
              "    </tr>\n",
              "  </thead>\n",
              "  <tbody>\n",
              "    <tr>\n",
              "      <th>Empregado (CLT)</th>\n",
              "      <td>2762</td>\n",
              "    </tr>\n",
              "    <tr>\n",
              "      <th>Empreendedor ou Empregado (CNPJ)</th>\n",
              "      <td>410</td>\n",
              "    </tr>\n",
              "    <tr>\n",
              "      <th>Desempregado, buscando recolocação</th>\n",
              "      <td>350</td>\n",
              "    </tr>\n",
              "    <tr>\n",
              "      <th>Estagiário</th>\n",
              "      <td>188</td>\n",
              "    </tr>\n",
              "    <tr>\n",
              "      <th>Servidor Público</th>\n",
              "      <td>156</td>\n",
              "    </tr>\n",
              "    <tr>\n",
              "      <th>Trabalho na área Acadêmica/Pesquisador</th>\n",
              "      <td>86</td>\n",
              "    </tr>\n",
              "    <tr>\n",
              "      <th>Somente Estudante (graduação)</th>\n",
              "      <td>82</td>\n",
              "    </tr>\n",
              "    <tr>\n",
              "      <th>Vivo no Brasil e trabalho remoto para empresa de fora do Brasil</th>\n",
              "      <td>69</td>\n",
              "    </tr>\n",
              "    <tr>\n",
              "      <th>Vivo fora do Brasil e trabalho para empresa de fora do Brasil</th>\n",
              "      <td>46</td>\n",
              "    </tr>\n",
              "    <tr>\n",
              "      <th>Somente Estudante (pós-graduação)</th>\n",
              "      <td>44</td>\n",
              "    </tr>\n",
              "    <tr>\n",
              "      <th>Freelancer</th>\n",
              "      <td>39</td>\n",
              "    </tr>\n",
              "    <tr>\n",
              "      <th>Prefiro não informar</th>\n",
              "      <td>24</td>\n",
              "    </tr>\n",
              "    <tr>\n",
              "      <th>Desempregado e não estou buscando recolocação</th>\n",
              "      <td>15</td>\n",
              "    </tr>\n",
              "  </tbody>\n",
              "</table>\n",
              "</div><br><label><b>dtype:</b> int64</label>"
            ]
          },
          "metadata": {},
          "execution_count": 4
        }
      ]
    },
    {
      "cell_type": "code",
      "source": [
        "dados = dados[dados['QUAL SUA SITUAÇÃO ATUAL DE TRABALHO?']=='Empregado (CLT)']"
      ],
      "metadata": {
        "id": "E2bVeCXcT2gV"
      },
      "execution_count": null,
      "outputs": []
    },
    {
      "cell_type": "code",
      "source": [
        "dados['QUAL SUA SITUAÇÃO ATUAL DE TRABALHO?'].value_counts()"
      ],
      "metadata": {
        "colab": {
          "base_uri": "https://localhost:8080/",
          "height": 147
        },
        "id": "sZRmIgtHU0q-",
        "outputId": "2a2bf9f1-2d95-445c-db22-14cb47e79d1b"
      },
      "execution_count": null,
      "outputs": [
        {
          "output_type": "execute_result",
          "data": {
            "text/plain": [
              "QUAL SUA SITUAÇÃO ATUAL DE TRABALHO?\n",
              "Empregado (CLT)    2762\n",
              "Name: count, dtype: int64"
            ],
            "text/html": [
              "<div>\n",
              "<style scoped>\n",
              "    .dataframe tbody tr th:only-of-type {\n",
              "        vertical-align: middle;\n",
              "    }\n",
              "\n",
              "    .dataframe tbody tr th {\n",
              "        vertical-align: top;\n",
              "    }\n",
              "\n",
              "    .dataframe thead th {\n",
              "        text-align: right;\n",
              "    }\n",
              "</style>\n",
              "<table border=\"1\" class=\"dataframe\">\n",
              "  <thead>\n",
              "    <tr style=\"text-align: right;\">\n",
              "      <th></th>\n",
              "      <th>count</th>\n",
              "    </tr>\n",
              "    <tr>\n",
              "      <th>QUAL SUA SITUAÇÃO ATUAL DE TRABALHO?</th>\n",
              "      <th></th>\n",
              "    </tr>\n",
              "  </thead>\n",
              "  <tbody>\n",
              "    <tr>\n",
              "      <th>Empregado (CLT)</th>\n",
              "      <td>2762</td>\n",
              "    </tr>\n",
              "  </tbody>\n",
              "</table>\n",
              "</div><br><label><b>dtype:</b> int64</label>"
            ]
          },
          "metadata": {},
          "execution_count": 6
        }
      ]
    },
    {
      "cell_type": "code",
      "source": [
        "dados['COR/RACA/ETNIA'].value_counts()"
      ],
      "metadata": {
        "colab": {
          "base_uri": "https://localhost:8080/",
          "height": 335
        },
        "id": "TjfjrAtpU1SQ",
        "outputId": "6dac8892-a440-4f4a-de92-4265b7552717"
      },
      "execution_count": null,
      "outputs": [
        {
          "output_type": "execute_result",
          "data": {
            "text/plain": [
              "COR/RACA/ETNIA\n",
              "Branca                  1805\n",
              "Parda                    661\n",
              "Preta                    181\n",
              "Amarela                   85\n",
              "Prefiro não informar      16\n",
              "Outra                     10\n",
              "Indígena                   4\n",
              "Name: count, dtype: int64"
            ],
            "text/html": [
              "<div>\n",
              "<style scoped>\n",
              "    .dataframe tbody tr th:only-of-type {\n",
              "        vertical-align: middle;\n",
              "    }\n",
              "\n",
              "    .dataframe tbody tr th {\n",
              "        vertical-align: top;\n",
              "    }\n",
              "\n",
              "    .dataframe thead th {\n",
              "        text-align: right;\n",
              "    }\n",
              "</style>\n",
              "<table border=\"1\" class=\"dataframe\">\n",
              "  <thead>\n",
              "    <tr style=\"text-align: right;\">\n",
              "      <th></th>\n",
              "      <th>count</th>\n",
              "    </tr>\n",
              "    <tr>\n",
              "      <th>COR/RACA/ETNIA</th>\n",
              "      <th></th>\n",
              "    </tr>\n",
              "  </thead>\n",
              "  <tbody>\n",
              "    <tr>\n",
              "      <th>Branca</th>\n",
              "      <td>1805</td>\n",
              "    </tr>\n",
              "    <tr>\n",
              "      <th>Parda</th>\n",
              "      <td>661</td>\n",
              "    </tr>\n",
              "    <tr>\n",
              "      <th>Preta</th>\n",
              "      <td>181</td>\n",
              "    </tr>\n",
              "    <tr>\n",
              "      <th>Amarela</th>\n",
              "      <td>85</td>\n",
              "    </tr>\n",
              "    <tr>\n",
              "      <th>Prefiro não informar</th>\n",
              "      <td>16</td>\n",
              "    </tr>\n",
              "    <tr>\n",
              "      <th>Outra</th>\n",
              "      <td>10</td>\n",
              "    </tr>\n",
              "    <tr>\n",
              "      <th>Indígena</th>\n",
              "      <td>4</td>\n",
              "    </tr>\n",
              "  </tbody>\n",
              "</table>\n",
              "</div><br><label><b>dtype:</b> int64</label>"
            ]
          },
          "metadata": {},
          "execution_count": 7
        }
      ]
    },
    {
      "cell_type": "code",
      "source": [
        "lista_retirar = ['Prefiro não informar', 'Outra', 'Indígena']"
      ],
      "metadata": {
        "id": "jdFqzvDuVBVR"
      },
      "execution_count": null,
      "outputs": []
    },
    {
      "cell_type": "code",
      "source": [
        "dados = dados[~dados['COR/RACA/ETNIA'].isin(lista_retirar)]"
      ],
      "metadata": {
        "collapsed": true,
        "id": "Rkrct0uXW8qa"
      },
      "execution_count": null,
      "outputs": []
    },
    {
      "cell_type": "code",
      "source": [
        "dados['NAO BRANCA'] = dados['COR/RACA/ETNIA'].apply(lambda x: 1 if x != 'Branca' else 0)"
      ],
      "metadata": {
        "id": "t5bGb_EXXOjh"
      },
      "execution_count": null,
      "outputs": []
    },
    {
      "cell_type": "code",
      "source": [
        "dados['QUANTO TEMPO DE EXPERIÊNCIA NA ÁREA DE DADOS VOCÊ TEM?'].value_counts()"
      ],
      "metadata": {
        "colab": {
          "base_uri": "https://localhost:8080/",
          "height": 335
        },
        "id": "AQLlxeEOXp1B",
        "outputId": "30460b8a-b8af-49a0-b75d-81f329d48841"
      },
      "execution_count": null,
      "outputs": [
        {
          "output_type": "execute_result",
          "data": {
            "text/plain": [
              "QUANTO TEMPO DE EXPERIÊNCIA NA ÁREA DE DADOS VOCÊ TEM?\n",
              "de 1 a 2 anos                             743\n",
              "de 3 a 4 anos                             584\n",
              "de 4 a 6 anos                             416\n",
              "Menos de 1 ano                            353\n",
              "Mais de 10 anos                           277\n",
              "de 7 a 10 anos                            232\n",
              "Não tenho experiência na área de dados    127\n",
              "Name: count, dtype: int64"
            ],
            "text/html": [
              "<div>\n",
              "<style scoped>\n",
              "    .dataframe tbody tr th:only-of-type {\n",
              "        vertical-align: middle;\n",
              "    }\n",
              "\n",
              "    .dataframe tbody tr th {\n",
              "        vertical-align: top;\n",
              "    }\n",
              "\n",
              "    .dataframe thead th {\n",
              "        text-align: right;\n",
              "    }\n",
              "</style>\n",
              "<table border=\"1\" class=\"dataframe\">\n",
              "  <thead>\n",
              "    <tr style=\"text-align: right;\">\n",
              "      <th></th>\n",
              "      <th>count</th>\n",
              "    </tr>\n",
              "    <tr>\n",
              "      <th>QUANTO TEMPO DE EXPERIÊNCIA NA ÁREA DE DADOS VOCÊ TEM?</th>\n",
              "      <th></th>\n",
              "    </tr>\n",
              "  </thead>\n",
              "  <tbody>\n",
              "    <tr>\n",
              "      <th>de 1 a 2 anos</th>\n",
              "      <td>743</td>\n",
              "    </tr>\n",
              "    <tr>\n",
              "      <th>de 3 a 4 anos</th>\n",
              "      <td>584</td>\n",
              "    </tr>\n",
              "    <tr>\n",
              "      <th>de 4 a 6 anos</th>\n",
              "      <td>416</td>\n",
              "    </tr>\n",
              "    <tr>\n",
              "      <th>Menos de 1 ano</th>\n",
              "      <td>353</td>\n",
              "    </tr>\n",
              "    <tr>\n",
              "      <th>Mais de 10 anos</th>\n",
              "      <td>277</td>\n",
              "    </tr>\n",
              "    <tr>\n",
              "      <th>de 7 a 10 anos</th>\n",
              "      <td>232</td>\n",
              "    </tr>\n",
              "    <tr>\n",
              "      <th>Não tenho experiência na área de dados</th>\n",
              "      <td>127</td>\n",
              "    </tr>\n",
              "  </tbody>\n",
              "</table>\n",
              "</div><br><label><b>dtype:</b> int64</label>"
            ]
          },
          "metadata": {},
          "execution_count": 11
        }
      ]
    },
    {
      "cell_type": "code",
      "source": [
        "dados['TEMPO EXPERIENCIA'] = dados['QUANTO TEMPO DE EXPERIÊNCIA NA ÁREA DE DADOS VOCÊ TEM?'].str.extract(r'(\\d+)')"
      ],
      "metadata": {
        "id": "NlxzIliDYAL1"
      },
      "execution_count": null,
      "outputs": []
    },
    {
      "cell_type": "code",
      "source": [
        "dados['TEMPO EXPERIENCIA'].value_counts()"
      ],
      "metadata": {
        "colab": {
          "base_uri": "https://localhost:8080/",
          "height": 272
        },
        "id": "DSNQfRlGZWXx",
        "outputId": "32304a1c-5b1e-40be-c237-a4d3cdb2c079"
      },
      "execution_count": null,
      "outputs": [
        {
          "output_type": "execute_result",
          "data": {
            "text/plain": [
              "TEMPO EXPERIENCIA\n",
              "1     1096\n",
              "3      584\n",
              "4      416\n",
              "10     277\n",
              "7      232\n",
              "Name: count, dtype: int64"
            ],
            "text/html": [
              "<div>\n",
              "<style scoped>\n",
              "    .dataframe tbody tr th:only-of-type {\n",
              "        vertical-align: middle;\n",
              "    }\n",
              "\n",
              "    .dataframe tbody tr th {\n",
              "        vertical-align: top;\n",
              "    }\n",
              "\n",
              "    .dataframe thead th {\n",
              "        text-align: right;\n",
              "    }\n",
              "</style>\n",
              "<table border=\"1\" class=\"dataframe\">\n",
              "  <thead>\n",
              "    <tr style=\"text-align: right;\">\n",
              "      <th></th>\n",
              "      <th>count</th>\n",
              "    </tr>\n",
              "    <tr>\n",
              "      <th>TEMPO EXPERIENCIA</th>\n",
              "      <th></th>\n",
              "    </tr>\n",
              "  </thead>\n",
              "  <tbody>\n",
              "    <tr>\n",
              "      <th>1</th>\n",
              "      <td>1096</td>\n",
              "    </tr>\n",
              "    <tr>\n",
              "      <th>3</th>\n",
              "      <td>584</td>\n",
              "    </tr>\n",
              "    <tr>\n",
              "      <th>4</th>\n",
              "      <td>416</td>\n",
              "    </tr>\n",
              "    <tr>\n",
              "      <th>10</th>\n",
              "      <td>277</td>\n",
              "    </tr>\n",
              "    <tr>\n",
              "      <th>7</th>\n",
              "      <td>232</td>\n",
              "    </tr>\n",
              "  </tbody>\n",
              "</table>\n",
              "</div><br><label><b>dtype:</b> int64</label>"
            ]
          },
          "metadata": {},
          "execution_count": 13
        }
      ]
    },
    {
      "cell_type": "code",
      "source": [
        "dados['NUMERO DE FUNCIONARIOS'].value_counts()"
      ],
      "metadata": {
        "colab": {
          "base_uri": "https://localhost:8080/",
          "height": 366
        },
        "id": "VYkDNimPayoS",
        "outputId": "ca666c3b-8a11-4f3c-8eb6-0b4ced829ee1"
      },
      "execution_count": null,
      "outputs": [
        {
          "output_type": "execute_result",
          "data": {
            "text/plain": [
              "NUMERO DE FUNCIONARIOS\n",
              "Acima de 3.000      1313\n",
              "de 101 a 500         503\n",
              "de 1.001 a 3.000     368\n",
              "de 501 a 1.000       248\n",
              "de 51 a 100          146\n",
              "de 11 a 50           112\n",
              "de 6 a 10             24\n",
              "de 1 a 5              18\n",
              "Name: count, dtype: int64"
            ],
            "text/html": [
              "<div>\n",
              "<style scoped>\n",
              "    .dataframe tbody tr th:only-of-type {\n",
              "        vertical-align: middle;\n",
              "    }\n",
              "\n",
              "    .dataframe tbody tr th {\n",
              "        vertical-align: top;\n",
              "    }\n",
              "\n",
              "    .dataframe thead th {\n",
              "        text-align: right;\n",
              "    }\n",
              "</style>\n",
              "<table border=\"1\" class=\"dataframe\">\n",
              "  <thead>\n",
              "    <tr style=\"text-align: right;\">\n",
              "      <th></th>\n",
              "      <th>count</th>\n",
              "    </tr>\n",
              "    <tr>\n",
              "      <th>NUMERO DE FUNCIONARIOS</th>\n",
              "      <th></th>\n",
              "    </tr>\n",
              "  </thead>\n",
              "  <tbody>\n",
              "    <tr>\n",
              "      <th>Acima de 3.000</th>\n",
              "      <td>1313</td>\n",
              "    </tr>\n",
              "    <tr>\n",
              "      <th>de 101 a 500</th>\n",
              "      <td>503</td>\n",
              "    </tr>\n",
              "    <tr>\n",
              "      <th>de 1.001 a 3.000</th>\n",
              "      <td>368</td>\n",
              "    </tr>\n",
              "    <tr>\n",
              "      <th>de 501 a 1.000</th>\n",
              "      <td>248</td>\n",
              "    </tr>\n",
              "    <tr>\n",
              "      <th>de 51 a 100</th>\n",
              "      <td>146</td>\n",
              "    </tr>\n",
              "    <tr>\n",
              "      <th>de 11 a 50</th>\n",
              "      <td>112</td>\n",
              "    </tr>\n",
              "    <tr>\n",
              "      <th>de 6 a 10</th>\n",
              "      <td>24</td>\n",
              "    </tr>\n",
              "    <tr>\n",
              "      <th>de 1 a 5</th>\n",
              "      <td>18</td>\n",
              "    </tr>\n",
              "  </tbody>\n",
              "</table>\n",
              "</div><br><label><b>dtype:</b> int64</label>"
            ]
          },
          "metadata": {},
          "execution_count": 14
        }
      ]
    },
    {
      "cell_type": "code",
      "source": [
        "dados['NUMERO DE FUNCIONARIOS'] = dados['NUMERO DE FUNCIONARIOS'].str.replace('.', '')"
      ],
      "metadata": {
        "id": "kFtkqEL7Zaai"
      },
      "execution_count": null,
      "outputs": []
    },
    {
      "cell_type": "markdown",
      "source": [],
      "metadata": {
        "id": "KNxc7o7pat1r"
      }
    },
    {
      "cell_type": "code",
      "source": [
        "dados['NUMERO DE FUNCIONARIOS'] = dados['NUMERO DE FUNCIONARIOS'].str.extract(r'(\\d+)')"
      ],
      "metadata": {
        "id": "bXh4_Df3a9sW"
      },
      "execution_count": null,
      "outputs": []
    },
    {
      "cell_type": "code",
      "source": [
        "dados['NUMERO DE FUNCIONARIOS'].value_counts(dropna=False) #NAO MOSTRA OS NULOS"
      ],
      "metadata": {
        "colab": {
          "base_uri": "https://localhost:8080/",
          "height": 366
        },
        "id": "BgmDLH3IbRnx",
        "outputId": "782ee79b-bd38-49ba-f348-a0db84f84e18"
      },
      "execution_count": null,
      "outputs": [
        {
          "output_type": "execute_result",
          "data": {
            "text/plain": [
              "NUMERO DE FUNCIONARIOS\n",
              "3000    1313\n",
              "101      503\n",
              "1001     368\n",
              "501      248\n",
              "51       146\n",
              "11       112\n",
              "6         24\n",
              "1         18\n",
              "Name: count, dtype: int64"
            ],
            "text/html": [
              "<div>\n",
              "<style scoped>\n",
              "    .dataframe tbody tr th:only-of-type {\n",
              "        vertical-align: middle;\n",
              "    }\n",
              "\n",
              "    .dataframe tbody tr th {\n",
              "        vertical-align: top;\n",
              "    }\n",
              "\n",
              "    .dataframe thead th {\n",
              "        text-align: right;\n",
              "    }\n",
              "</style>\n",
              "<table border=\"1\" class=\"dataframe\">\n",
              "  <thead>\n",
              "    <tr style=\"text-align: right;\">\n",
              "      <th></th>\n",
              "      <th>count</th>\n",
              "    </tr>\n",
              "    <tr>\n",
              "      <th>NUMERO DE FUNCIONARIOS</th>\n",
              "      <th></th>\n",
              "    </tr>\n",
              "  </thead>\n",
              "  <tbody>\n",
              "    <tr>\n",
              "      <th>3000</th>\n",
              "      <td>1313</td>\n",
              "    </tr>\n",
              "    <tr>\n",
              "      <th>101</th>\n",
              "      <td>503</td>\n",
              "    </tr>\n",
              "    <tr>\n",
              "      <th>1001</th>\n",
              "      <td>368</td>\n",
              "    </tr>\n",
              "    <tr>\n",
              "      <th>501</th>\n",
              "      <td>248</td>\n",
              "    </tr>\n",
              "    <tr>\n",
              "      <th>51</th>\n",
              "      <td>146</td>\n",
              "    </tr>\n",
              "    <tr>\n",
              "      <th>11</th>\n",
              "      <td>112</td>\n",
              "    </tr>\n",
              "    <tr>\n",
              "      <th>6</th>\n",
              "      <td>24</td>\n",
              "    </tr>\n",
              "    <tr>\n",
              "      <th>1</th>\n",
              "      <td>18</td>\n",
              "    </tr>\n",
              "  </tbody>\n",
              "</table>\n",
              "</div><br><label><b>dtype:</b> int64</label>"
            ]
          },
          "metadata": {},
          "execution_count": 17
        }
      ]
    },
    {
      "cell_type": "code",
      "source": [
        "dados['TEMPO EXPERIENCIA'].value_counts(dropna=False) #MOSTRAR NULOS"
      ],
      "metadata": {
        "colab": {
          "base_uri": "https://localhost:8080/",
          "height": 303
        },
        "id": "8GbCb2g-bag7",
        "outputId": "a08f78b9-c3e6-4366-9c2c-f8e18fa7fe8f"
      },
      "execution_count": null,
      "outputs": [
        {
          "output_type": "execute_result",
          "data": {
            "text/plain": [
              "TEMPO EXPERIENCIA\n",
              "1      1096\n",
              "3       584\n",
              "4       416\n",
              "10      277\n",
              "7       232\n",
              "NaN     127\n",
              "Name: count, dtype: int64"
            ],
            "text/html": [
              "<div>\n",
              "<style scoped>\n",
              "    .dataframe tbody tr th:only-of-type {\n",
              "        vertical-align: middle;\n",
              "    }\n",
              "\n",
              "    .dataframe tbody tr th {\n",
              "        vertical-align: top;\n",
              "    }\n",
              "\n",
              "    .dataframe thead th {\n",
              "        text-align: right;\n",
              "    }\n",
              "</style>\n",
              "<table border=\"1\" class=\"dataframe\">\n",
              "  <thead>\n",
              "    <tr style=\"text-align: right;\">\n",
              "      <th></th>\n",
              "      <th>count</th>\n",
              "    </tr>\n",
              "    <tr>\n",
              "      <th>TEMPO EXPERIENCIA</th>\n",
              "      <th></th>\n",
              "    </tr>\n",
              "  </thead>\n",
              "  <tbody>\n",
              "    <tr>\n",
              "      <th>1</th>\n",
              "      <td>1096</td>\n",
              "    </tr>\n",
              "    <tr>\n",
              "      <th>3</th>\n",
              "      <td>584</td>\n",
              "    </tr>\n",
              "    <tr>\n",
              "      <th>4</th>\n",
              "      <td>416</td>\n",
              "    </tr>\n",
              "    <tr>\n",
              "      <th>10</th>\n",
              "      <td>277</td>\n",
              "    </tr>\n",
              "    <tr>\n",
              "      <th>7</th>\n",
              "      <td>232</td>\n",
              "    </tr>\n",
              "    <tr>\n",
              "      <th>NaN</th>\n",
              "      <td>127</td>\n",
              "    </tr>\n",
              "  </tbody>\n",
              "</table>\n",
              "</div><br><label><b>dtype:</b> int64</label>"
            ]
          },
          "metadata": {},
          "execution_count": 18
        }
      ]
    },
    {
      "cell_type": "code",
      "source": [
        "dados['TEMPO EXPERIENCIA'] = dados['TEMPO EXPERIENCIA'].fillna(0) #preenche nulos com 0"
      ],
      "metadata": {
        "id": "RXcdWi0Hbisr"
      },
      "execution_count": null,
      "outputs": []
    },
    {
      "cell_type": "code",
      "source": [
        "dados.columns"
      ],
      "metadata": {
        "colab": {
          "base_uri": "https://localhost:8080/"
        },
        "id": "FghnsQhOtTuo",
        "outputId": "b06b1548-5936-4445-ccc2-7cd8f0b49750"
      },
      "execution_count": null,
      "outputs": [
        {
          "output_type": "execute_result",
          "data": {
            "text/plain": [
              "Index(['ID', 'IDADE', 'FAIXA IDADE', 'GENERO', 'COR/RACA/ETNIA', 'PCD',\n",
              "       'EXPERIENCIA_PROFISSIONAL_PREJUDICADA', 'ASPECTOS_PREJUDICADOS',\n",
              "       'VIVE_NO_BRASIL', 'ESTADO ONDE MORA', 'UF ONDE MORA',\n",
              "       'REGIAO ONDE MORA', 'MUDOU DE ESTADO?', 'REGIAO DE ORIGEM',\n",
              "       'NIVEL DE ENSINO', 'ÁREA DE FORMAÇÃO',\n",
              "       'QUAL SUA SITUAÇÃO ATUAL DE TRABALHO?', 'SETOR',\n",
              "       'NUMERO DE FUNCIONARIOS', 'GESTOR?', 'CARGO COMO GESTOR', 'CARGO ATUAL',\n",
              "       'FAIXA SALARIAL',\n",
              "       'QUANTO TEMPO DE EXPERIÊNCIA NA ÁREA DE DADOS VOCÊ TEM?',\n",
              "       'QUANTO TEMPO DE EXPERIÊNCIA NA ÁREA DE TI/ENGENHARIA DE SOFTWARE VOCÊ TEVE ANTES DE COMEÇAR A TRABALHAR NA ÁREA DE DADOS?',\n",
              "       'SALARIO', 'NOVO_NIVEL', 'NIVEL_Júnior', 'NIVEL_Pleno', 'NIVEL_Sênior',\n",
              "       'GEARACAO', 'Quanto tempo de experiência na área de dados você tem?',\n",
              "       'Quanto tempo de experiência na área de TI/Engenharia de Software você teve antes de começar a trabalhar na área de dados?',\n",
              "       'Você está satisfeito na sua empresa atual?',\n",
              "       'Qual o principal motivo da sua insatisfação com a empresa atual?',\n",
              "       'Você participou de entrevistas de emprego nos últimos 6 meses?',\n",
              "       'Você pretende mudar de emprego nos próximos 6 meses?',\n",
              "       'Quais os principais critérios que você leva em consideração no momento de decidir onde trabalhar?',\n",
              "       'Atualmente qual a sua forma de trabalho?',\n",
              "       'Qual a forma de trabalho ideal para você?',\n",
              "       'Caso sua empresa decida pelo modelo 100% presencial qual será sua atitude?',\n",
              "       'Sua empresa passu por Layoff em 2022?', 'Atuacao',\n",
              "       'Quais das linguagens listadas abaixo você utiliza no trabalho?',\n",
              "       'EM_BUSCA', 'ABERTO_OPORTUNIDADES', 'NAO BRANCA', 'TEMPO EXPERIENCIA'],\n",
              "      dtype='object')"
            ]
          },
          "metadata": {},
          "execution_count": 20
        }
      ]
    },
    {
      "cell_type": "code",
      "source": [
        "dados['Qual o principal motivo da sua insatisfação com a empresa atual?'].value_counts()"
      ],
      "metadata": {
        "colab": {
          "base_uri": "https://localhost:8080/",
          "height": 576
        },
        "id": "fXQlpL2otZTR",
        "outputId": "8ddfed86-6606-401e-c3ac-6de0eea06548"
      },
      "execution_count": null,
      "outputs": [
        {
          "output_type": "execute_result",
          "data": {
            "text/plain": [
              "Qual o principal motivo da sua insatisfação com a empresa atual?\n",
              "Gostaria de trabalhar em em outra área de atuação                                                                                                           69\n",
              "Salário atual não corresponde ao mercado                                                                                                                    53\n",
              "Falta de oportunidade de crescimento no emprego atual                                                                                                       46\n",
              "Falta de maturidade analítica na empresa                                                                                                                    45\n",
              "Falta de oportunidade de crescimento no emprego atual, Salário atual não corresponde ao mercado, Falta de maturidade analítica na empresa                   26\n",
              "                                                                                                                                                            ..\n",
              "Trabalho explora pouco minhas habilidades e me dá poucas oportunidades de atuação distintas                                                                  1\n",
              "Quero trabalhar de casa                                                                                                                                      1\n",
              "Não tenho uma boa relação com meu líder/gestor, Gostaria de trabalhar em em outra área de atuação                                                            1\n",
              "Salário atual não corresponde ao mercado, Gostaria de trabalhar em em outra área de atuação, Carga horária de trabalho                                       1\n",
              "Não tenho uma boa relação com meu líder/gestor, Falta de oportunidade de crescimento no emprego atual, Gostaria de trabalhar em em outra área de atuação     1\n",
              "Name: count, Length: 174, dtype: int64"
            ],
            "text/html": [
              "<div>\n",
              "<style scoped>\n",
              "    .dataframe tbody tr th:only-of-type {\n",
              "        vertical-align: middle;\n",
              "    }\n",
              "\n",
              "    .dataframe tbody tr th {\n",
              "        vertical-align: top;\n",
              "    }\n",
              "\n",
              "    .dataframe thead th {\n",
              "        text-align: right;\n",
              "    }\n",
              "</style>\n",
              "<table border=\"1\" class=\"dataframe\">\n",
              "  <thead>\n",
              "    <tr style=\"text-align: right;\">\n",
              "      <th></th>\n",
              "      <th>count</th>\n",
              "    </tr>\n",
              "    <tr>\n",
              "      <th>Qual o principal motivo da sua insatisfação com a empresa atual?</th>\n",
              "      <th></th>\n",
              "    </tr>\n",
              "  </thead>\n",
              "  <tbody>\n",
              "    <tr>\n",
              "      <th>Gostaria de trabalhar em em outra área de atuação</th>\n",
              "      <td>69</td>\n",
              "    </tr>\n",
              "    <tr>\n",
              "      <th>Salário atual não corresponde ao mercado</th>\n",
              "      <td>53</td>\n",
              "    </tr>\n",
              "    <tr>\n",
              "      <th>Falta de oportunidade de crescimento no emprego atual</th>\n",
              "      <td>46</td>\n",
              "    </tr>\n",
              "    <tr>\n",
              "      <th>Falta de maturidade analítica na empresa</th>\n",
              "      <td>45</td>\n",
              "    </tr>\n",
              "    <tr>\n",
              "      <th>Falta de oportunidade de crescimento no emprego atual, Salário atual não corresponde ao mercado, Falta de maturidade analítica na empresa</th>\n",
              "      <td>26</td>\n",
              "    </tr>\n",
              "    <tr>\n",
              "      <th>...</th>\n",
              "      <td>...</td>\n",
              "    </tr>\n",
              "    <tr>\n",
              "      <th>Trabalho explora pouco minhas habilidades e me dá poucas oportunidades de atuação distintas</th>\n",
              "      <td>1</td>\n",
              "    </tr>\n",
              "    <tr>\n",
              "      <th>Quero trabalhar de casa</th>\n",
              "      <td>1</td>\n",
              "    </tr>\n",
              "    <tr>\n",
              "      <th>Não tenho uma boa relação com meu líder/gestor, Gostaria de trabalhar em em outra área de atuação</th>\n",
              "      <td>1</td>\n",
              "    </tr>\n",
              "    <tr>\n",
              "      <th>Salário atual não corresponde ao mercado, Gostaria de trabalhar em em outra área de atuação, Carga horária de trabalho</th>\n",
              "      <td>1</td>\n",
              "    </tr>\n",
              "    <tr>\n",
              "      <th>Não tenho uma boa relação com meu líder/gestor, Falta de oportunidade de crescimento no emprego atual, Gostaria de trabalhar em em outra área de atuação</th>\n",
              "      <td>1</td>\n",
              "    </tr>\n",
              "  </tbody>\n",
              "</table>\n",
              "<p>174 rows × 1 columns</p>\n",
              "</div><br><label><b>dtype:</b> int64</label>"
            ]
          },
          "metadata": {},
          "execution_count": 21
        }
      ]
    },
    {
      "cell_type": "code",
      "source": [
        "dados['INSATISFACAO'] = 0 #criar coluna com valores 0 e"
      ],
      "metadata": {
        "id": "LYdPWfOttfAM"
      },
      "execution_count": null,
      "outputs": []
    },
    {
      "cell_type": "code",
      "source": [
        "dados.loc[dados['Qual o principal motivo da sua insatisfação com a empresa atual?'].notnull(), 'Qual o principal motivo da sua insatisfação com a empresa atual?'].apply(lambda x: 1 if 'Salário' in x else 0)\n",
        "#loc nessa coluna valores notnull, e na mesma coluna aplicar: se houve 'Salário' = 1 se n = 0"
      ],
      "metadata": {
        "colab": {
          "base_uri": "https://localhost:8080/",
          "height": 458
        },
        "id": "ZOoqxpEft-2p",
        "outputId": "78b9550f-e0b0-469b-d7c8-59444cdccabd"
      },
      "execution_count": null,
      "outputs": [
        {
          "output_type": "execute_result",
          "data": {
            "text/plain": [
              "1       0\n",
              "2       0\n",
              "7       1\n",
              "10      0\n",
              "26      1\n",
              "       ..\n",
              "4227    0\n",
              "4234    1\n",
              "4238    0\n",
              "4240    1\n",
              "4270    1\n",
              "Name: Qual o principal motivo da sua insatisfação com a empresa atual?, Length: 661, dtype: int64"
            ],
            "text/html": [
              "<div>\n",
              "<style scoped>\n",
              "    .dataframe tbody tr th:only-of-type {\n",
              "        vertical-align: middle;\n",
              "    }\n",
              "\n",
              "    .dataframe tbody tr th {\n",
              "        vertical-align: top;\n",
              "    }\n",
              "\n",
              "    .dataframe thead th {\n",
              "        text-align: right;\n",
              "    }\n",
              "</style>\n",
              "<table border=\"1\" class=\"dataframe\">\n",
              "  <thead>\n",
              "    <tr style=\"text-align: right;\">\n",
              "      <th></th>\n",
              "      <th>Qual o principal motivo da sua insatisfação com a empresa atual?</th>\n",
              "    </tr>\n",
              "  </thead>\n",
              "  <tbody>\n",
              "    <tr>\n",
              "      <th>1</th>\n",
              "      <td>0</td>\n",
              "    </tr>\n",
              "    <tr>\n",
              "      <th>2</th>\n",
              "      <td>0</td>\n",
              "    </tr>\n",
              "    <tr>\n",
              "      <th>7</th>\n",
              "      <td>1</td>\n",
              "    </tr>\n",
              "    <tr>\n",
              "      <th>10</th>\n",
              "      <td>0</td>\n",
              "    </tr>\n",
              "    <tr>\n",
              "      <th>26</th>\n",
              "      <td>1</td>\n",
              "    </tr>\n",
              "    <tr>\n",
              "      <th>...</th>\n",
              "      <td>...</td>\n",
              "    </tr>\n",
              "    <tr>\n",
              "      <th>4227</th>\n",
              "      <td>0</td>\n",
              "    </tr>\n",
              "    <tr>\n",
              "      <th>4234</th>\n",
              "      <td>1</td>\n",
              "    </tr>\n",
              "    <tr>\n",
              "      <th>4238</th>\n",
              "      <td>0</td>\n",
              "    </tr>\n",
              "    <tr>\n",
              "      <th>4240</th>\n",
              "      <td>1</td>\n",
              "    </tr>\n",
              "    <tr>\n",
              "      <th>4270</th>\n",
              "      <td>1</td>\n",
              "    </tr>\n",
              "  </tbody>\n",
              "</table>\n",
              "<p>661 rows × 1 columns</p>\n",
              "</div><br><label><b>dtype:</b> int64</label>"
            ]
          },
          "metadata": {},
          "execution_count": 23
        }
      ]
    },
    {
      "cell_type": "code",
      "source": [
        "dados.loc[dados['Qual o principal motivo da sua insatisfação com a empresa atual?'].notnull(), 'INSATISFACAO'] = dados.loc[dados['Qual o principal motivo da sua insatisfação com a empresa atual?'].notnull(), 'Qual o principal motivo da sua insatisfação com a empresa atual?'].apply(lambda x: 1 if 'Salário' in x else 0)\n",
        "#TUDO NESSA COLUNA INSTATISFACAO QUE N É NULO E QUE TIVER A PAALVRA SALARIO SERÁ 1"
      ],
      "metadata": {
        "id": "swkhqJCIvCXx"
      },
      "execution_count": null,
      "outputs": []
    },
    {
      "cell_type": "code",
      "source": [
        "dados['NIVEL DE ENSINO'].value_counts()"
      ],
      "metadata": {
        "colab": {
          "base_uri": "https://localhost:8080/",
          "height": 335
        },
        "id": "KtjYZh9P0O9K",
        "outputId": "fc73180d-edce-402a-dbfb-40a14580cf6c"
      },
      "execution_count": null,
      "outputs": [
        {
          "output_type": "execute_result",
          "data": {
            "text/plain": [
              "NIVEL DE ENSINO\n",
              "Graduação/Bacharelado         1024\n",
              "Pós-graduação                  975\n",
              "Mestrado                       306\n",
              "Estudante de Graduação         271\n",
              "Doutorado ou Phd               100\n",
              "Não tenho graduação formal      52\n",
              "Prefiro não informar             4\n",
              "Name: count, dtype: int64"
            ],
            "text/html": [
              "<div>\n",
              "<style scoped>\n",
              "    .dataframe tbody tr th:only-of-type {\n",
              "        vertical-align: middle;\n",
              "    }\n",
              "\n",
              "    .dataframe tbody tr th {\n",
              "        vertical-align: top;\n",
              "    }\n",
              "\n",
              "    .dataframe thead th {\n",
              "        text-align: right;\n",
              "    }\n",
              "</style>\n",
              "<table border=\"1\" class=\"dataframe\">\n",
              "  <thead>\n",
              "    <tr style=\"text-align: right;\">\n",
              "      <th></th>\n",
              "      <th>count</th>\n",
              "    </tr>\n",
              "    <tr>\n",
              "      <th>NIVEL DE ENSINO</th>\n",
              "      <th></th>\n",
              "    </tr>\n",
              "  </thead>\n",
              "  <tbody>\n",
              "    <tr>\n",
              "      <th>Graduação/Bacharelado</th>\n",
              "      <td>1024</td>\n",
              "    </tr>\n",
              "    <tr>\n",
              "      <th>Pós-graduação</th>\n",
              "      <td>975</td>\n",
              "    </tr>\n",
              "    <tr>\n",
              "      <th>Mestrado</th>\n",
              "      <td>306</td>\n",
              "    </tr>\n",
              "    <tr>\n",
              "      <th>Estudante de Graduação</th>\n",
              "      <td>271</td>\n",
              "    </tr>\n",
              "    <tr>\n",
              "      <th>Doutorado ou Phd</th>\n",
              "      <td>100</td>\n",
              "    </tr>\n",
              "    <tr>\n",
              "      <th>Não tenho graduação formal</th>\n",
              "      <td>52</td>\n",
              "    </tr>\n",
              "    <tr>\n",
              "      <th>Prefiro não informar</th>\n",
              "      <td>4</td>\n",
              "    </tr>\n",
              "  </tbody>\n",
              "</table>\n",
              "</div><br><label><b>dtype:</b> int64</label>"
            ]
          },
          "metadata": {},
          "execution_count": 27
        }
      ]
    },
    {
      "cell_type": "code",
      "source": [
        "dados['NIVEL DE ENSINO'] = dados['NIVEL DE ENSINO'].apply(lambda x: 0 if x=='Não tenho graduação formal' else\n",
        "                               1 if x=='Estudante de Graduação' else\n",
        "                               2 if x=='Graduação/Bacharelado' else\n",
        "                               3 if x=='Pós-graduação' else\n",
        "                               4 if x=='Mestrado' else\n",
        "                               5 if x=='Doutorado ou Phd' else -1)"
      ],
      "metadata": {
        "id": "nKX96iyX1Gv3"
      },
      "execution_count": null,
      "outputs": []
    },
    {
      "cell_type": "code",
      "source": [
        "dados = dados[['IDADE', 'GENERO', 'NAO BRANCA', 'TEMPO EXPERIENCIA', 'INSATISFACAO', 'SETOR', 'REGIAO ONDE MORA', 'NIVEL DE ENSINO', 'NUMERO DE FUNCIONARIOS', 'SALARIO', 'NOVO_NIVEL']]"
      ],
      "metadata": {
        "id": "O1Qp5HzX3PqG"
      },
      "execution_count": null,
      "outputs": []
    },
    {
      "cell_type": "code",
      "source": [
        "dados.columns\n"
      ],
      "metadata": {
        "colab": {
          "base_uri": "https://localhost:8080/"
        },
        "id": "kEhCDTP538vJ",
        "outputId": "547ecf56-fb6a-405e-8e11-fac8598794a8"
      },
      "execution_count": null,
      "outputs": [
        {
          "output_type": "execute_result",
          "data": {
            "text/plain": [
              "Index(['IDADE', 'GENERO', 'NAO BRANCA', 'TEMPO EXPERIENCIA', 'INSATISFACAO',\n",
              "       'SETOR', 'REGIAO ONDE MORA', 'NIVEL DE ENSINO',\n",
              "       'NUMERO DE FUNCIONARIOS', 'SALARIO', 'NOVO_NIVEL'],\n",
              "      dtype='object')"
            ]
          },
          "metadata": {},
          "execution_count": 30
        }
      ]
    },
    {
      "cell_type": "code",
      "source": [
        "dados = pd.get_dummies(dados, columns=['GENERO', 'SETOR', 'NOVO_NIVEL', 'REGIAO ONDE MORA'], drop_first=True) #distinguiu essas colunas e apagou a orignal"
      ],
      "metadata": {
        "id": "f6tSexcd5jMf"
      },
      "execution_count": null,
      "outputs": []
    },
    {
      "cell_type": "code",
      "source": [
        "X = dados.drop('SALARIO', axis=1) #divisao do conjunto de dados em 2 atributos\n",
        "y = dados['SALARIO'] #col salario nao é string"
      ],
      "metadata": {
        "id": "lD13Ct8T8Xve"
      },
      "execution_count": null,
      "outputs": []
    },
    {
      "cell_type": "code",
      "source": [
        "from sklearn.model_selection import train_test_split"
      ],
      "metadata": {
        "id": "WDtBD_2_-QHw"
      },
      "execution_count": null,
      "outputs": []
    },
    {
      "cell_type": "code",
      "source": [
        "X_train, X_test, y_train, y_test = train_test_split(X, y, test_size=0.2, random_state=42) #divisao de dados"
      ],
      "metadata": {
        "id": "SnnUAP8N-VYq"
      },
      "execution_count": null,
      "outputs": []
    },
    {
      "cell_type": "code",
      "source": [
        "from sklearn.preprocessing import StandardScaler #funcao para padronização de dados"
      ],
      "metadata": {
        "id": "b7cYHeovBtA1"
      },
      "execution_count": null,
      "outputs": []
    },
    {
      "cell_type": "code",
      "source": [
        "scaler = StandardScaler()\n",
        "\n",
        "X_train_scaled = scaler.fit_transform(X_train)\n",
        "X_test_scaled = scaler.fit_transform(X_test)  #padronizando as caracteristicas para normalizar os dados"
      ],
      "metadata": {
        "id": "g-VgckYvB9f7"
      },
      "execution_count": null,
      "outputs": []
    },
    {
      "cell_type": "code",
      "source": [
        "from sklearn.linear_model import LinearRegression"
      ],
      "metadata": {
        "id": "gUq10Y-gaD0n"
      },
      "execution_count": null,
      "outputs": []
    },
    {
      "cell_type": "code",
      "source": [
        "model = LinearRegression()"
      ],
      "metadata": {
        "id": "NUEQ1GQ3aT3r"
      },
      "execution_count": null,
      "outputs": []
    },
    {
      "cell_type": "code",
      "source": [
        "model.fit(X_train_scaled, y_train)"
      ],
      "metadata": {
        "colab": {
          "base_uri": "https://localhost:8080/",
          "height": 74
        },
        "id": "Y3MWBjRMaWGy",
        "outputId": "a83c111f-f9de-42b5-8f18-5b04460cfef0"
      },
      "execution_count": null,
      "outputs": [
        {
          "output_type": "execute_result",
          "data": {
            "text/plain": [
              "LinearRegression()"
            ],
            "text/html": [
              "<style>#sk-container-id-2 {color: black;}#sk-container-id-2 pre{padding: 0;}#sk-container-id-2 div.sk-toggleable {background-color: white;}#sk-container-id-2 label.sk-toggleable__label {cursor: pointer;display: block;width: 100%;margin-bottom: 0;padding: 0.3em;box-sizing: border-box;text-align: center;}#sk-container-id-2 label.sk-toggleable__label-arrow:before {content: \"▸\";float: left;margin-right: 0.25em;color: #696969;}#sk-container-id-2 label.sk-toggleable__label-arrow:hover:before {color: black;}#sk-container-id-2 div.sk-estimator:hover label.sk-toggleable__label-arrow:before {color: black;}#sk-container-id-2 div.sk-toggleable__content {max-height: 0;max-width: 0;overflow: hidden;text-align: left;background-color: #f0f8ff;}#sk-container-id-2 div.sk-toggleable__content pre {margin: 0.2em;color: black;border-radius: 0.25em;background-color: #f0f8ff;}#sk-container-id-2 input.sk-toggleable__control:checked~div.sk-toggleable__content {max-height: 200px;max-width: 100%;overflow: auto;}#sk-container-id-2 input.sk-toggleable__control:checked~label.sk-toggleable__label-arrow:before {content: \"▾\";}#sk-container-id-2 div.sk-estimator input.sk-toggleable__control:checked~label.sk-toggleable__label {background-color: #d4ebff;}#sk-container-id-2 div.sk-label input.sk-toggleable__control:checked~label.sk-toggleable__label {background-color: #d4ebff;}#sk-container-id-2 input.sk-hidden--visually {border: 0;clip: rect(1px 1px 1px 1px);clip: rect(1px, 1px, 1px, 1px);height: 1px;margin: -1px;overflow: hidden;padding: 0;position: absolute;width: 1px;}#sk-container-id-2 div.sk-estimator {font-family: monospace;background-color: #f0f8ff;border: 1px dotted black;border-radius: 0.25em;box-sizing: border-box;margin-bottom: 0.5em;}#sk-container-id-2 div.sk-estimator:hover {background-color: #d4ebff;}#sk-container-id-2 div.sk-parallel-item::after {content: \"\";width: 100%;border-bottom: 1px solid gray;flex-grow: 1;}#sk-container-id-2 div.sk-label:hover label.sk-toggleable__label {background-color: #d4ebff;}#sk-container-id-2 div.sk-serial::before {content: \"\";position: absolute;border-left: 1px solid gray;box-sizing: border-box;top: 0;bottom: 0;left: 50%;z-index: 0;}#sk-container-id-2 div.sk-serial {display: flex;flex-direction: column;align-items: center;background-color: white;padding-right: 0.2em;padding-left: 0.2em;position: relative;}#sk-container-id-2 div.sk-item {position: relative;z-index: 1;}#sk-container-id-2 div.sk-parallel {display: flex;align-items: stretch;justify-content: center;background-color: white;position: relative;}#sk-container-id-2 div.sk-item::before, #sk-container-id-2 div.sk-parallel-item::before {content: \"\";position: absolute;border-left: 1px solid gray;box-sizing: border-box;top: 0;bottom: 0;left: 50%;z-index: -1;}#sk-container-id-2 div.sk-parallel-item {display: flex;flex-direction: column;z-index: 1;position: relative;background-color: white;}#sk-container-id-2 div.sk-parallel-item:first-child::after {align-self: flex-end;width: 50%;}#sk-container-id-2 div.sk-parallel-item:last-child::after {align-self: flex-start;width: 50%;}#sk-container-id-2 div.sk-parallel-item:only-child::after {width: 0;}#sk-container-id-2 div.sk-dashed-wrapped {border: 1px dashed gray;margin: 0 0.4em 0.5em 0.4em;box-sizing: border-box;padding-bottom: 0.4em;background-color: white;}#sk-container-id-2 div.sk-label label {font-family: monospace;font-weight: bold;display: inline-block;line-height: 1.2em;}#sk-container-id-2 div.sk-label-container {text-align: center;}#sk-container-id-2 div.sk-container {/* jupyter's `normalize.less` sets `[hidden] { display: none; }` but bootstrap.min.css set `[hidden] { display: none !important; }` so we also need the `!important` here to be able to override the default hidden behavior on the sphinx rendered scikit-learn.org. See: https://github.com/scikit-learn/scikit-learn/issues/21755 */display: inline-block !important;position: relative;}#sk-container-id-2 div.sk-text-repr-fallback {display: none;}</style><div id=\"sk-container-id-2\" class=\"sk-top-container\"><div class=\"sk-text-repr-fallback\"><pre>LinearRegression()</pre><b>In a Jupyter environment, please rerun this cell to show the HTML representation or trust the notebook. <br />On GitHub, the HTML representation is unable to render, please try loading this page with nbviewer.org.</b></div><div class=\"sk-container\" hidden><div class=\"sk-item\"><div class=\"sk-estimator sk-toggleable\"><input class=\"sk-toggleable__control sk-hidden--visually\" id=\"sk-estimator-id-2\" type=\"checkbox\" checked><label for=\"sk-estimator-id-2\" class=\"sk-toggleable__label sk-toggleable__label-arrow\">LinearRegression</label><div class=\"sk-toggleable__content\"><pre>LinearRegression()</pre></div></div></div></div></div>"
            ]
          },
          "metadata": {},
          "execution_count": 41
        }
      ]
    },
    {
      "cell_type": "markdown",
      "source": [
        "Nós importamos a função LinearRegression da biblioteca sklearn, criamos um objeto chamado model apartir dessa função. E então enviando os parâmetros de treino na função fit (assim: model.fit(X_train_scaled, y_train)) nós conseguimos treinar o modelo."
      ],
      "metadata": {
        "id": "-KBHL0VzaLJJ"
      }
    },
    {
      "cell_type": "code",
      "source": [
        "y_pred = model.predict(X_test_scaled)"
      ],
      "metadata": {
        "id": "bJzEs-qeabG6"
      },
      "execution_count": null,
      "outputs": []
    },
    {
      "cell_type": "markdown",
      "source": [
        "Usando a função predict e enviando como parâmetro o conjunto de teste (X_test_scaled) a gente conseguiu fazer as predições desse conjunto."
      ],
      "metadata": {
        "id": "xG-QkClra_EN"
      }
    },
    {
      "cell_type": "code",
      "source": [
        "from sklearn.metrics import mean_squared_error, r2_score, mean_absolute_error"
      ],
      "metadata": {
        "id": "UVg_gTknafhc"
      },
      "execution_count": null,
      "outputs": []
    },
    {
      "cell_type": "code",
      "source": [
        "mse = mean_squared_error(y_test, y_pred)\n",
        "mse\n",
        "#resultado é absurdo, vamo usar MEA. a escala é a mesma do target, mais fazil de interpretar"
      ],
      "metadata": {
        "colab": {
          "base_uri": "https://localhost:8080/"
        },
        "id": "pyE1h_p-bQuS",
        "outputId": "65cb97b8-3ec1-4000-b1d6-330214f2270e"
      },
      "execution_count": null,
      "outputs": [
        {
          "output_type": "execute_result",
          "data": {
            "text/plain": [
              "23048733.978297196"
            ]
          },
          "metadata": {},
          "execution_count": 54
        }
      ]
    },
    {
      "cell_type": "code",
      "source": [
        "mae = mean_absolute_error(y_test, y_pred)\n",
        "mae\n"
      ],
      "metadata": {
        "colab": {
          "base_uri": "https://localhost:8080/"
        },
        "id": "iy6og_vlbpxt",
        "outputId": "ccf0d9dc-5b6b-4611-b724-b89ed2e99a30"
      },
      "execution_count": null,
      "outputs": [
        {
          "output_type": "execute_result",
          "data": {
            "text/plain": [
              "3298.964464206939"
            ]
          },
          "metadata": {},
          "execution_count": 52
        }
      ]
    },
    {
      "cell_type": "code",
      "source": [
        "r2 = r2_score(y_test, y_pred)\n",
        "r2"
      ],
      "metadata": {
        "colab": {
          "base_uri": "https://localhost:8080/"
        },
        "id": "qBveaMELb-0i",
        "outputId": "b3490268-e264-4948-dd4a-cd1b6d6e430c"
      },
      "execution_count": null,
      "outputs": [
        {
          "output_type": "execute_result",
          "data": {
            "text/plain": [
              "0.5297347873934934"
            ]
          },
          "metadata": {},
          "execution_count": 53
        }
      ]
    },
    {
      "cell_type": "markdown",
      "source": [
        "E então partimos para uma parte muito importante de qualquer modelo de machine learning que é a avaliação do modelo, para saber se está bom ou ruim (ou mais ou menos, ou médio, ou excelente, ou … enfim, vocês entenderam, certo?😂) Focamos em três métricas principais para avaliação de modelos de regressão:\n",
        "\n",
        "MSE (Mean Squared Error), MAE (Mean Absolute Error) e R² (R-squared). Com os resultados nós concluímos que para um modelo real de produção nosso modelo não seria aceitável."
      ],
      "metadata": {
        "id": "tWWh_GfbcdAF"
      }
    },
    {
      "cell_type": "code",
      "source": [
        "import matplotlib.pyplot as plt"
      ],
      "metadata": {
        "id": "I0TJdGqfceV8"
      },
      "execution_count": null,
      "outputs": []
    },
    {
      "cell_type": "code",
      "source": [
        "plt.figure(figsize=(10, 6))\n",
        "plt.scatter(y_test, y_pred, alpha = 0.5)\n",
        "plt.xlabel('Valores Reais')\n",
        "plt.ylabel('Valores Preditos')\n",
        "plt.title('Valores Reais x Valores Preditos')\n",
        "plt.plot([min(y_test), max(y_test)], [min(y_test), max(y_test)], linestyle='--', color='red')\n",
        "plt.show()"
      ],
      "metadata": {
        "colab": {
          "base_uri": "https://localhost:8080/",
          "height": 423
        },
        "id": "xMT_bGJkd8gP",
        "outputId": "a44a75ff-4e65-4b77-c644-2dc9bad410e9"
      },
      "execution_count": null,
      "outputs": [
        {
          "output_type": "display_data",
          "data": {
            "text/plain": [
              "<Figure size 1000x600 with 1 Axes>"
            ],
            "image/png": "[encoded data removed]"
          },
          "metadata": {}
        }
      ]
    },
    {
      "cell_type": "markdown",
      "source": [
        "Plotamos um gráfico dos valores reais versus os valores preditos pelo modelo e conseguimos perceber que até certo valor de salário, os valores preditos e os reais tem uma certa sintonia. Porém para valores muito altos de salários, as predições são muito distantes."
      ],
      "metadata": {
        "id": "a2h4tHzad0Wg"
      }
    },
    {
      "cell_type": "code",
      "source": [
        "nomes_atributos = X_train.columns\n",
        "nomes_atributos"
      ],
      "metadata": {
        "colab": {
          "base_uri": "https://localhost:8080/"
        },
        "id": "kn4FelbTgcbX",
        "outputId": "2537a25b-b5c7-466f-a414-ab39988a3370"
      },
      "execution_count": null,
      "outputs": [
        {
          "output_type": "execute_result",
          "data": {
            "text/plain": [
              "Index(['IDADE', 'NAO BRANCA', 'TEMPO EXPERIENCIA', 'INSATISFACAO',\n",
              "       'NIVEL DE ENSINO', 'NUMERO DE FUNCIONARIOS', 'GENERO_Masculino',\n",
              "       'GENERO_Prefiro não informar', 'SETOR_Educação',\n",
              "       'SETOR_Entretenimento ou Esportes', 'SETOR_Filantropia/ONG's',\n",
              "       'SETOR_Finanças ou Bancos', 'SETOR_Indústria',\n",
              "       'SETOR_Internet/Ecommerce', 'SETOR_Marketing', 'SETOR_Outra Opção',\n",
              "       'SETOR_Seguros ou Previdência', 'SETOR_Setor Alimentício',\n",
              "       'SETOR_Setor Automotivo', 'SETOR_Setor Farmaceutico',\n",
              "       'SETOR_Setor Imobiliário/ Construção Civil', 'SETOR_Setor Público',\n",
              "       'SETOR_Setor de Energia', 'SETOR_Tecnologia/Fábrica de Software',\n",
              "       'SETOR_Telecomunicação', 'SETOR_Varejo', 'SETOR_Área da Saúde',\n",
              "       'SETOR_Área de Consultoria', 'NOVO_NIVEL_Pessoa Gestora',\n",
              "       'NOVO_NIVEL_Pleno', 'NOVO_NIVEL_Sênior', 'REGIAO ONDE MORA_Nordeste',\n",
              "       'REGIAO ONDE MORA_Norte', 'REGIAO ONDE MORA_Sudeste',\n",
              "       'REGIAO ONDE MORA_Sul'],\n",
              "      dtype='object')"
            ]
          },
          "metadata": {},
          "execution_count": 61
        }
      ]
    },
    {
      "cell_type": "code",
      "source": [
        "coefs = pd.DataFrame(model.coef_, columns=['coeficientes'], index= nomes_atributos)"
      ],
      "metadata": {
        "id": "GphKHewIguMC"
      },
      "execution_count": null,
      "outputs": []
    },
    {
      "cell_type": "code",
      "source": [
        "coefs = coefs.sort_values(by='coeficientes', ascending=False) #ordenar valores"
      ],
      "metadata": {
        "id": "L4Od5DNqiR39"
      },
      "execution_count": null,
      "outputs": []
    },
    {
      "cell_type": "code",
      "source": [
        "coefs.plot.barh(figsize=(10, 6))\n",
        "plt.xlabel('Coeficientes')\n",
        "plt.ylabel('Atributos')\n",
        "plt.title('Coeficientes dos Atributos')\n",
        "plt.axvline(x=0, color='red', linestyle='--')\n",
        "plt.show()"
      ],
      "metadata": {
        "colab": {
          "base_uri": "https://localhost:8080/",
          "height": 334
        },
        "id": "m8ApkYRQiyve",
        "outputId": "c9f7721c-5aba-461b-a9e4-8d2eb9bce64c"
      },
      "execution_count": null,
      "outputs": [
        {
          "output_type": "display_data",
          "data": {
            "text/plain": [
              "<Figure size 1000x600 with 1 Axes>"
            ],
            "image/png": "[encoded data removed]"
          },
          "metadata": {}
        }
      ]
    },
    {
      "cell_type": "markdown",
      "source": [
        "Para conseguir analisar melhor o modelo, nós pegamos os coeficientes (pesos) de cada atributo, assim a gente conseguiu avaliar quais atributos tiveram mais peso positivo ou negativo para o resultado do modelo. Fizemos um gráfico bem bonito pra deixar mais visual essa questão dos coeficientes e conseguimos observar quais atributos pesaram mais para o negativo e quais pesaram mais para o positivo.\n",
        "\n",
        "➡️Para finalizar, nós fizemos uma reflexão de que o modelo que nós treinamos foi utilizado para análise. Buscando entender no mundo real de hoje o que influencia o salário, olhamos os coeficientes e o que pesa para negativo e positivo.\n",
        "\n",
        "💭Se um modelo para estimar o salário de uma pessoa, para ser usado na vida real, por exemplo, o salário da equipe da programaria vai ser estimado por um modelo, a gente teria que ter muito cuidado com ética para não reproduzir os vieses do mundo real.\n",
        "\n"
      ],
      "metadata": {
        "id": "qLS0FJ6wjaj3"
      }
    },
    {
      "cell_type": "code",
      "source": [],
      "metadata": {
        "id": "7z_aLdrzjaS5"
      },
      "execution_count": null,
      "outputs": []
    }
  ]
}